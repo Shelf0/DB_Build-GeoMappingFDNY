{
 "cells": [
  {
   "cell_type": "markdown",
   "metadata": {},
   "source": [
    "# VacationPy\n",
    "----\n",
    "\n",
    "#### Note\n",
    "* Keep an eye on your API usage. Use https://developers.google.com/maps/reporting/gmp-reporting as reference for how to monitor your usage and billing.\n",
    "\n",
    "* Instructions have been included for each segment. You do not have to follow them exactly, but they are included to help you think through the steps."
   ]
  },
  {
   "cell_type": "code",
   "execution_count": null,
   "metadata": {},
   "outputs": [],
   "source": [
    "# Dependencies and Setup\n",
    "import matplotlib.pyplot as plt\n",
    "import pandas as pd\n",
    "import numpy as np\n",
    "import requests\n",
    "import gmaps\n",
    "import os\n",
    "\n",
    "# Import API key\n",
    "from g_keys import g_key\n",
    "gmaps.configure(api_key=g_key)"
   ]
  },
  {
   "cell_type": "markdown",
   "metadata": {},
   "source": [
    "### Store Part I results into DataFrame\n",
    "* Load the csv exported in Part I to a DataFrame"
   ]
  },
  {
   "cell_type": "code",
   "execution_count": null,
   "metadata": {},
   "outputs": [],
   "source": [
    "P1_df = pd.read_csv(\"C:/Users/19739/Desktop/New folder/Project_4/Resources/FD_List.csv\")\n",
    "P1_df"
   ]
  },
  {
   "cell_type": "markdown",
   "metadata": {},
   "source": [
    "### Humidity Heatmap\n",
    "* Configure gmaps.\n",
    "* Use the Lat and Lng as locations and Humidity as the weight.\n",
    "* Add Heatmap layer to map."
   ]
  },
  {
   "cell_type": "code",
   "execution_count": 3,
   "metadata": {},
   "outputs": [],
   "source": [
    "#humidity = P1_df[\"Humidity\"].astype(float)\n",
    "#maxhumidity = humidity.max()\n",
    "locations = P1_df[[\"Latitude\", \"Longitude\"]]"
   ]
  },
  {
   "cell_type": "code",
   "execution_count": 5,
   "metadata": {
    "scrolled": true
   },
   "outputs": [
    {
     "data": {
      "application/vnd.jupyter.widget-view+json": {
       "model_id": "c803d65df1ec4bcca4625d57174373f9",
       "version_major": 2,
       "version_minor": 0
      },
      "text/plain": [
       "Figure(layout=FigureLayout(height='420px'))"
      ]
     },
     "metadata": {},
     "output_type": "display_data"
    }
   ],
   "source": [
    "fig = gmaps.figure()\n",
    "#heat_layer = gmaps.heatmap_layer(locations, weights=tate,dissipating=False, max_intensity=maxhumidity,point_radius=3)\n",
    "#fig.add_layer(heat_layer)\n",
    "fig\n"
   ]
  },
  {
   "cell_type": "markdown",
   "metadata": {},
   "source": [
    "### Create new DataFrame fitting weather criteria\n",
    "* Narrow down the cities to fit weather conditions.\n",
    "* Drop any rows will null values."
   ]
  },
  {
   "cell_type": "code",
   "execution_count": 5,
   "metadata": {},
   "outputs": [
    {
     "data": {
      "text/html": [
       "<div>\n",
       "<style scoped>\n",
       "    .dataframe tbody tr th:only-of-type {\n",
       "        vertical-align: middle;\n",
       "    }\n",
       "\n",
       "    .dataframe tbody tr th {\n",
       "        vertical-align: top;\n",
       "    }\n",
       "\n",
       "    .dataframe thead th {\n",
       "        text-align: right;\n",
       "    }\n",
       "</style>\n",
       "<table border=\"1\" class=\"dataframe\">\n",
       "  <thead>\n",
       "    <tr style=\"text-align: right;\">\n",
       "      <th></th>\n",
       "      <th>City</th>\n",
       "      <th>Lat</th>\n",
       "      <th>Lng</th>\n",
       "      <th>Max Temp</th>\n",
       "      <th>Humidity</th>\n",
       "      <th>Cloudiness</th>\n",
       "      <th>Wind Speed</th>\n",
       "      <th>Country</th>\n",
       "      <th>Date</th>\n",
       "    </tr>\n",
       "  </thead>\n",
       "  <tbody>\n",
       "    <tr>\n",
       "      <th>0</th>\n",
       "      <td>Grasse</td>\n",
       "      <td>43.6667</td>\n",
       "      <td>6.9167</td>\n",
       "      <td>73.26</td>\n",
       "      <td>59</td>\n",
       "      <td>0</td>\n",
       "      <td>4.61</td>\n",
       "      <td>FR</td>\n",
       "      <td>1631208561</td>\n",
       "    </tr>\n",
       "    <tr>\n",
       "      <th>1</th>\n",
       "      <td>Temba</td>\n",
       "      <td>-25.3803</td>\n",
       "      <td>28.2631</td>\n",
       "      <td>71.10</td>\n",
       "      <td>28</td>\n",
       "      <td>0</td>\n",
       "      <td>8.99</td>\n",
       "      <td>ZA</td>\n",
       "      <td>1631208593</td>\n",
       "    </tr>\n",
       "    <tr>\n",
       "      <th>2</th>\n",
       "      <td>Cape Town</td>\n",
       "      <td>-33.9258</td>\n",
       "      <td>18.4232</td>\n",
       "      <td>72.10</td>\n",
       "      <td>52</td>\n",
       "      <td>0</td>\n",
       "      <td>1.99</td>\n",
       "      <td>ZA</td>\n",
       "      <td>1631208439</td>\n",
       "    </tr>\n",
       "    <tr>\n",
       "      <th>3</th>\n",
       "      <td>Wencheng</td>\n",
       "      <td>33.0559</td>\n",
       "      <td>113.7978</td>\n",
       "      <td>71.94</td>\n",
       "      <td>89</td>\n",
       "      <td>0</td>\n",
       "      <td>5.41</td>\n",
       "      <td>CN</td>\n",
       "      <td>1631208601</td>\n",
       "    </tr>\n",
       "    <tr>\n",
       "      <th>4</th>\n",
       "      <td>Ürümqi</td>\n",
       "      <td>43.8010</td>\n",
       "      <td>87.6005</td>\n",
       "      <td>70.75</td>\n",
       "      <td>33</td>\n",
       "      <td>0</td>\n",
       "      <td>6.71</td>\n",
       "      <td>CN</td>\n",
       "      <td>1631208607</td>\n",
       "    </tr>\n",
       "    <tr>\n",
       "      <th>5</th>\n",
       "      <td>Dimona</td>\n",
       "      <td>31.0667</td>\n",
       "      <td>35.0333</td>\n",
       "      <td>79.84</td>\n",
       "      <td>35</td>\n",
       "      <td>0</td>\n",
       "      <td>5.57</td>\n",
       "      <td>IL</td>\n",
       "      <td>1631208634</td>\n",
       "    </tr>\n",
       "    <tr>\n",
       "      <th>6</th>\n",
       "      <td>Villarrica</td>\n",
       "      <td>-25.7500</td>\n",
       "      <td>-56.4333</td>\n",
       "      <td>74.07</td>\n",
       "      <td>30</td>\n",
       "      <td>0</td>\n",
       "      <td>8.03</td>\n",
       "      <td>PY</td>\n",
       "      <td>1631208638</td>\n",
       "    </tr>\n",
       "    <tr>\n",
       "      <th>7</th>\n",
       "      <td>Tongchuanshi</td>\n",
       "      <td>35.0806</td>\n",
       "      <td>109.0897</td>\n",
       "      <td>70.52</td>\n",
       "      <td>62</td>\n",
       "      <td>0</td>\n",
       "      <td>2.68</td>\n",
       "      <td>CN</td>\n",
       "      <td>1631208665</td>\n",
       "    </tr>\n",
       "    <tr>\n",
       "      <th>8</th>\n",
       "      <td>Tūkrah</td>\n",
       "      <td>32.5341</td>\n",
       "      <td>20.5791</td>\n",
       "      <td>76.78</td>\n",
       "      <td>59</td>\n",
       "      <td>0</td>\n",
       "      <td>7.76</td>\n",
       "      <td>LY</td>\n",
       "      <td>1631208679</td>\n",
       "    </tr>\n",
       "  </tbody>\n",
       "</table>\n",
       "</div>"
      ],
      "text/plain": [
       "           City      Lat       Lng  Max Temp  Humidity  Cloudiness  \\\n",
       "0        Grasse  43.6667    6.9167     73.26        59           0   \n",
       "1         Temba -25.3803   28.2631     71.10        28           0   \n",
       "2     Cape Town -33.9258   18.4232     72.10        52           0   \n",
       "3      Wencheng  33.0559  113.7978     71.94        89           0   \n",
       "4        Ürümqi  43.8010   87.6005     70.75        33           0   \n",
       "5        Dimona  31.0667   35.0333     79.84        35           0   \n",
       "6    Villarrica -25.7500  -56.4333     74.07        30           0   \n",
       "7  Tongchuanshi  35.0806  109.0897     70.52        62           0   \n",
       "8        Tūkrah  32.5341   20.5791     76.78        59           0   \n",
       "\n",
       "   Wind Speed Country        Date  \n",
       "0        4.61      FR  1631208561  \n",
       "1        8.99      ZA  1631208593  \n",
       "2        1.99      ZA  1631208439  \n",
       "3        5.41      CN  1631208601  \n",
       "4        6.71      CN  1631208607  \n",
       "5        5.57      IL  1631208634  \n",
       "6        8.03      PY  1631208638  \n",
       "7        2.68      CN  1631208665  \n",
       "8        7.76      LY  1631208679  "
      ]
     },
     "execution_count": 5,
     "metadata": {},
     "output_type": "execute_result"
    }
   ],
   "source": [
    "\n",
    "criteria_city_df = P1_df.loc[(P1_df[\"Max Temp\"] > 70) & (P1_df[\"Max Temp\"] < 80) & (P1_df[\"Cloudiness\"] == 0) & (P1_df[\"Wind Speed\"] <= 10), :]\n",
    "criteria_city_df = criteria_city_df.dropna(how='any')\n",
    "criteria_city_df.reset_index(inplace=True)\n",
    "del criteria_city_df['index']\n",
    "criteria_city_df"
   ]
  },
  {
   "cell_type": "markdown",
   "metadata": {},
   "source": [
    "### Hotel Map\n",
    "* Store into variable named `hotel_df`.\n",
    "* Add a \"Hotel Name\" column to the DataFrame.\n",
    "* Set parameters to search for hotels with 5000 meters.\n",
    "* Hit the Google Places API for each city's coordinates.\n",
    "* Store the first Hotel result into the DataFrame.\n",
    "* Plot markers on top of the heatmap."
   ]
  },
  {
   "cell_type": "code",
   "execution_count": 6,
   "metadata": {},
   "outputs": [
    {
     "data": {
      "text/html": [
       "<div>\n",
       "<style scoped>\n",
       "    .dataframe tbody tr th:only-of-type {\n",
       "        vertical-align: middle;\n",
       "    }\n",
       "\n",
       "    .dataframe tbody tr th {\n",
       "        vertical-align: top;\n",
       "    }\n",
       "\n",
       "    .dataframe thead th {\n",
       "        text-align: right;\n",
       "    }\n",
       "</style>\n",
       "<table border=\"1\" class=\"dataframe\">\n",
       "  <thead>\n",
       "    <tr style=\"text-align: right;\">\n",
       "      <th></th>\n",
       "      <th>City</th>\n",
       "      <th>Country</th>\n",
       "      <th>Lat</th>\n",
       "      <th>Lng</th>\n",
       "    </tr>\n",
       "  </thead>\n",
       "  <tbody>\n",
       "    <tr>\n",
       "      <th>0</th>\n",
       "      <td>Grasse</td>\n",
       "      <td>FR</td>\n",
       "      <td>43.6667</td>\n",
       "      <td>6.9167</td>\n",
       "    </tr>\n",
       "    <tr>\n",
       "      <th>1</th>\n",
       "      <td>Temba</td>\n",
       "      <td>ZA</td>\n",
       "      <td>-25.3803</td>\n",
       "      <td>28.2631</td>\n",
       "    </tr>\n",
       "    <tr>\n",
       "      <th>2</th>\n",
       "      <td>Cape Town</td>\n",
       "      <td>ZA</td>\n",
       "      <td>-33.9258</td>\n",
       "      <td>18.4232</td>\n",
       "    </tr>\n",
       "    <tr>\n",
       "      <th>3</th>\n",
       "      <td>Wencheng</td>\n",
       "      <td>CN</td>\n",
       "      <td>33.0559</td>\n",
       "      <td>113.7978</td>\n",
       "    </tr>\n",
       "    <tr>\n",
       "      <th>4</th>\n",
       "      <td>Ürümqi</td>\n",
       "      <td>CN</td>\n",
       "      <td>43.8010</td>\n",
       "      <td>87.6005</td>\n",
       "    </tr>\n",
       "    <tr>\n",
       "      <th>5</th>\n",
       "      <td>Dimona</td>\n",
       "      <td>IL</td>\n",
       "      <td>31.0667</td>\n",
       "      <td>35.0333</td>\n",
       "    </tr>\n",
       "    <tr>\n",
       "      <th>6</th>\n",
       "      <td>Villarrica</td>\n",
       "      <td>PY</td>\n",
       "      <td>-25.7500</td>\n",
       "      <td>-56.4333</td>\n",
       "    </tr>\n",
       "    <tr>\n",
       "      <th>7</th>\n",
       "      <td>Tongchuanshi</td>\n",
       "      <td>CN</td>\n",
       "      <td>35.0806</td>\n",
       "      <td>109.0897</td>\n",
       "    </tr>\n",
       "    <tr>\n",
       "      <th>8</th>\n",
       "      <td>Tūkrah</td>\n",
       "      <td>LY</td>\n",
       "      <td>32.5341</td>\n",
       "      <td>20.5791</td>\n",
       "    </tr>\n",
       "  </tbody>\n",
       "</table>\n",
       "</div>"
      ],
      "text/plain": [
       "           City Country      Lat       Lng\n",
       "0        Grasse      FR  43.6667    6.9167\n",
       "1         Temba      ZA -25.3803   28.2631\n",
       "2     Cape Town      ZA -33.9258   18.4232\n",
       "3      Wencheng      CN  33.0559  113.7978\n",
       "4        Ürümqi      CN  43.8010   87.6005\n",
       "5        Dimona      IL  31.0667   35.0333\n",
       "6    Villarrica      PY -25.7500  -56.4333\n",
       "7  Tongchuanshi      CN  35.0806  109.0897\n",
       "8        Tūkrah      LY  32.5341   20.5791"
      ]
     },
     "execution_count": 6,
     "metadata": {},
     "output_type": "execute_result"
    }
   ],
   "source": [
    "\n",
    "hotel_df = pd.DataFrame(criteria_city_df, columns=[\"City\", \"Country\", \"Lat\", \"Lng\"])\n",
    "\n",
    "hotel_df"
   ]
  },
  {
   "cell_type": "code",
   "execution_count": null,
   "metadata": {},
   "outputs": [],
   "source": [
    "\n",
    "# FD variable\n",
    "FD = []\n",
    "\n",
    "# Loop through narrowed down dataframe to get nearest hotel\n",
    "for city in range(len(P1_df[\"City\"])):\n",
    "\n",
    "    lat = P1_df.loc[city][\"Latitude\"]\n",
    "    lng = P1_df.loc[city][\"Longitude\"]\n",
    "\n",
    "    city_coords = f\"{lat},{lng}\"\n",
    "\n",
    "    params = {\n",
    "        \"location\": city_coords, \n",
    "        \"types\": \"Fire Department\",\n",
    "        \"radius\": 5000,\n",
    "        \"key\": g_key\n",
    "    }\n",
    "\n",
    "    base_url = \"https://maps.googleapis.com/maps/api/place/nearbysearch/json\"\n",
    "    \n",
    "    FD_request = requests.get(base_url, params=params)\n",
    "    FD_response = FD_request.json()\n",
    "\n",
    "    try:\n",
    "        FD.append(FD_response[\"results\"][0][\"name\"])\n",
    "    except:\n",
    "        FD.append(\"Nearest FD not found\")\n",
    "\n",
    "# Dataframe with nearest hotel\n",
    "FD_df[\"FD Name\"] = FD\n",
    "FD_df"
   ]
  },
  {
   "cell_type": "code",
   "execution_count": null,
   "metadata": {},
   "outputs": [],
   "source": [
    "# NOTE: Do not change any of the code in this cell\n",
    "\n",
    "# Using the template add the hotel marks to the heatmap\n",
    "info_box_template = \"\"\"\n",
    "<dl>\n",
    "<dt>Name</dt><dd>{Hotel Name}</dd>\n",
    "<dt>City</dt><dd>{City}</dd>\n",
    "<dt>Country</dt><dd>{Country}</dd>\n",
    "</dl>\n",
    "\"\"\"\n",
    "# Store the DataFrame Row\n",
    "# NOTE: be sure to update with your DataFrame name\n",
    "FD_info = [info_box_template.format(**row) for index, row in P1_df.iterrows()]\n",
    "locations = P1_df[[\"Latitude\", \"Longitude\"]]"
   ]
  },
  {
   "cell_type": "code",
   "execution_count": 10,
   "metadata": {},
   "outputs": [
    {
     "data": {
      "application/vnd.jupyter.widget-view+json": {
       "model_id": "c748f49647c24adca16c943f2e85c27e",
       "version_major": 2,
       "version_minor": 0
      },
      "text/plain": [
       "Figure(layout=FigureLayout(height='420px'))"
      ]
     },
     "metadata": {},
     "output_type": "display_data"
    }
   ],
   "source": [
    "\n",
    "# Add marker layer and info box content ontop of heat map\n",
    "markers = gmaps.marker_layer(locations, info_box_content = hotel_info)\n",
    "\n",
    "# Add the layer to the map\n",
    "fig.add_layer(markers)\n",
    "\n",
    "# Display Map\n",
    "fig\n"
   ]
  },
  {
   "cell_type": "code",
   "execution_count": null,
   "metadata": {},
   "outputs": [],
   "source": []
  }
 ],
 "metadata": {
  "kernelspec": {
   "display_name": "Python 3",
   "language": "python",
   "name": "python3"
  },
  "language_info": {
   "codemirror_mode": {
    "name": "ipython",
    "version": 3
   },
   "file_extension": ".py",
   "mimetype": "text/x-python",
   "name": "python",
   "nbconvert_exporter": "python",
   "pygments_lexer": "ipython3",
   "version": "3.6.10"
  },
  "latex_envs": {
   "LaTeX_envs_menu_present": true,
   "autoclose": false,
   "autocomplete": true,
   "bibliofile": "biblio.bib",
   "cite_by": "apalike",
   "current_citInitial": 1,
   "eqLabelWithNumbers": true,
   "eqNumInitial": 1,
   "hotkeys": {
    "equation": "Ctrl-E",
    "itemize": "Ctrl-I"
   },
   "labels_anchors": false,
   "latex_user_defs": false,
   "report_style_numbering": false,
   "user_envs_cfg": false
  }
 },
 "nbformat": 4,
 "nbformat_minor": 4
}
